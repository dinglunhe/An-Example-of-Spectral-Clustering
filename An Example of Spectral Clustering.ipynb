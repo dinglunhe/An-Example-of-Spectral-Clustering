{
 "cells": [
  {
   "cell_type": "code",
   "execution_count": 1,
   "metadata": {},
   "outputs": [],
   "source": [
    "import numpy as np\n",
    "from sklearn.cluster import KMeans"
   ]
  },
  {
   "cell_type": "code",
   "execution_count": 2,
   "metadata": {},
   "outputs": [
    {
     "data": {
      "text/plain": [
       "array([[0, 1, 1, 0, 0, 1, 0, 0, 1, 1],\n",
       "       [1, 0, 1, 0, 0, 0, 0, 0, 0, 0],\n",
       "       [1, 1, 0, 0, 0, 0, 0, 0, 0, 0],\n",
       "       [0, 0, 0, 0, 1, 1, 0, 0, 0, 0],\n",
       "       [0, 0, 0, 1, 0, 1, 0, 0, 0, 0],\n",
       "       [1, 0, 0, 1, 1, 0, 1, 1, 0, 0],\n",
       "       [0, 0, 0, 0, 0, 1, 0, 1, 0, 0],\n",
       "       [0, 0, 0, 0, 0, 1, 1, 0, 0, 0],\n",
       "       [1, 0, 0, 0, 0, 0, 0, 0, 0, 1],\n",
       "       [1, 0, 0, 0, 0, 0, 0, 0, 1, 0]])"
      ]
     },
     "execution_count": 2,
     "metadata": {},
     "output_type": "execute_result"
    }
   ],
   "source": [
    "# Adjacency matrix\n",
    "A = np.array([\n",
    "  [0, 1, 1, 0, 0, 1, 0, 0, 1, 1],\n",
    "  [1, 0, 1, 0, 0, 0, 0, 0, 0, 0],\n",
    "  [1, 1, 0, 0, 0, 0, 0, 0, 0, 0],\n",
    "  [0, 0, 0, 0, 1, 1, 0, 0, 0, 0],\n",
    "  [0, 0, 0, 1, 0, 1, 0, 0, 0, 0],\n",
    "  [1, 0, 0, 1, 1, 0, 1, 1, 0, 0],\n",
    "  [0, 0, 0, 0, 0, 1, 0, 1, 0, 0],\n",
    "  [0, 0, 0, 0, 0, 1, 1, 0, 0, 0],\n",
    "  [1, 0, 0, 0, 0, 0, 0, 0, 0, 1],\n",
    "  [1, 0, 0, 0, 0, 0, 0, 0, 1, 0]])\n",
    "A"
   ]
  },
  {
   "cell_type": "code",
   "execution_count": 3,
   "metadata": {},
   "outputs": [
    {
     "data": {
      "text/plain": [
       "array([[5, 0, 0, 0, 0, 0, 0, 0, 0, 0],\n",
       "       [0, 2, 0, 0, 0, 0, 0, 0, 0, 0],\n",
       "       [0, 0, 2, 0, 0, 0, 0, 0, 0, 0],\n",
       "       [0, 0, 0, 2, 0, 0, 0, 0, 0, 0],\n",
       "       [0, 0, 0, 0, 2, 0, 0, 0, 0, 0],\n",
       "       [0, 0, 0, 0, 0, 5, 0, 0, 0, 0],\n",
       "       [0, 0, 0, 0, 0, 0, 2, 0, 0, 0],\n",
       "       [0, 0, 0, 0, 0, 0, 0, 2, 0, 0],\n",
       "       [0, 0, 0, 0, 0, 0, 0, 0, 2, 0],\n",
       "       [0, 0, 0, 0, 0, 0, 0, 0, 0, 2]])"
      ]
     },
     "execution_count": 3,
     "metadata": {},
     "output_type": "execute_result"
    }
   ],
   "source": [
    "# Degree matrix\n",
    "D = np.sum(A,axis=1)\n",
    "np.diag(D)"
   ]
  },
  {
   "cell_type": "code",
   "execution_count": 4,
   "metadata": {},
   "outputs": [
    {
     "data": {
      "text/plain": [
       "array([[ 5, -1, -1,  0,  0, -1,  0,  0, -1, -1],\n",
       "       [-1,  2, -1,  0,  0,  0,  0,  0,  0,  0],\n",
       "       [-1, -1,  2,  0,  0,  0,  0,  0,  0,  0],\n",
       "       [ 0,  0,  0,  2, -1, -1,  0,  0,  0,  0],\n",
       "       [ 0,  0,  0, -1,  2, -1,  0,  0,  0,  0],\n",
       "       [-1,  0,  0, -1, -1,  5, -1, -1,  0,  0],\n",
       "       [ 0,  0,  0,  0,  0, -1,  2, -1,  0,  0],\n",
       "       [ 0,  0,  0,  0,  0, -1, -1,  2,  0,  0],\n",
       "       [-1,  0,  0,  0,  0,  0,  0,  0,  2, -1],\n",
       "       [-1,  0,  0,  0,  0,  0,  0,  0, -1,  2]])"
      ]
     },
     "execution_count": 4,
     "metadata": {},
     "output_type": "execute_result"
    }
   ],
   "source": [
    "# Laplace matrix\n",
    "L = np.diag(D) - A\n",
    "L"
   ]
  },
  {
   "cell_type": "code",
   "execution_count": 5,
   "metadata": {},
   "outputs": [
    {
     "data": {
      "text/plain": [
       "array([[ 1.        , -0.31622777, -0.31622777,  0.        ,  0.        ,\n",
       "        -0.2       ,  0.        ,  0.        , -0.31622777, -0.31622777],\n",
       "       [-0.31622777,  1.        , -0.5       ,  0.        ,  0.        ,\n",
       "         0.        ,  0.        ,  0.        ,  0.        ,  0.        ],\n",
       "       [-0.31622777, -0.5       ,  1.        ,  0.        ,  0.        ,\n",
       "         0.        ,  0.        ,  0.        ,  0.        ,  0.        ],\n",
       "       [ 0.        ,  0.        ,  0.        ,  1.        , -0.5       ,\n",
       "        -0.31622777,  0.        ,  0.        ,  0.        ,  0.        ],\n",
       "       [ 0.        ,  0.        ,  0.        , -0.5       ,  1.        ,\n",
       "        -0.31622777,  0.        ,  0.        ,  0.        ,  0.        ],\n",
       "       [-0.2       ,  0.        ,  0.        , -0.31622777, -0.31622777,\n",
       "         1.        , -0.31622777, -0.31622777,  0.        ,  0.        ],\n",
       "       [ 0.        ,  0.        ,  0.        ,  0.        ,  0.        ,\n",
       "        -0.31622777,  1.        , -0.5       ,  0.        ,  0.        ],\n",
       "       [ 0.        ,  0.        ,  0.        ,  0.        ,  0.        ,\n",
       "        -0.31622777, -0.5       ,  1.        ,  0.        ,  0.        ],\n",
       "       [-0.31622777,  0.        ,  0.        ,  0.        ,  0.        ,\n",
       "         0.        ,  0.        ,  0.        ,  1.        , -0.5       ],\n",
       "       [-0.31622777,  0.        ,  0.        ,  0.        ,  0.        ,\n",
       "         0.        ,  0.        ,  0.        , -0.5       ,  1.        ]])"
      ]
     },
     "execution_count": 5,
     "metadata": {},
     "output_type": "execute_result"
    }
   ],
   "source": [
    "# Symmetric normalized Laplacian\n",
    "sqrtD = np.diag(1.0 / (D ** (0.5)))\n",
    "L_normalize = np.dot(np.dot(sqrtD, L), sqrtD)\n",
    "L_normalize"
   ]
  },
  {
   "cell_type": "code",
   "execution_count": 6,
   "metadata": {},
   "outputs": [
    {
     "data": {
      "text/plain": [
       "array([[ 0.3162 ,  0.234  ,  0.     , -0.     ],\n",
       "       [ 0.3162 ,  0.3337 , -0.02039,  0.4907 ],\n",
       "       [ 0.3162 ,  0.3337 , -0.02039,  0.4907 ],\n",
       "       [ 0.3162 , -0.3337 , -0.4995 , -0.0962 ],\n",
       "       [ 0.3162 , -0.3337 , -0.4995 , -0.0962 ],\n",
       "       [ 0.3162 , -0.234  , -0.     ,  0.     ],\n",
       "       [ 0.3162 , -0.3337 ,  0.4995 ,  0.0962 ],\n",
       "       [ 0.3162 , -0.3337 ,  0.4995 ,  0.0962 ],\n",
       "       [ 0.3162 ,  0.3337 ,  0.02039, -0.4907 ],\n",
       "       [ 0.3162 ,  0.3337 ,  0.02039, -0.4907 ]], dtype=float16)"
      ]
     },
     "execution_count": 6,
     "metadata": {},
     "output_type": "execute_result"
    }
   ],
   "source": [
    "# Eigendecomposition\n",
    "eigValue,eigVector = np.linalg.eig(L)\n",
    "dictEigval = dict(zip(eigValue,range(len(eigValue))))\n",
    "# Select the eigenvector corresponding to the smallest 4 eigenvalues\n",
    "kEig = np.sort(eigValue)[0:4]\n",
    "index = [dictEigval[k] for k in kEig]\n",
    "eigVector[:,index].astype('float16')"
   ]
  },
  {
   "cell_type": "code",
   "execution_count": 7,
   "metadata": {},
   "outputs": [
    {
     "data": {
      "text/plain": [
       "array([3, 3, 3, 2, 2, 2, 1, 1, 0, 0])"
      ]
     },
     "execution_count": 7,
     "metadata": {},
     "output_type": "execute_result"
    }
   ],
   "source": [
    "# Perform KMeans on the row vectors of the matrix of eigenvectors\n",
    "kmeans = KMeans(n_clusters=4)\n",
    "kmeans.fit(eigVector[:,index])\n",
    "kmeans.labels_"
   ]
  },
  {
   "cell_type": "code",
   "execution_count": 8,
   "metadata": {},
   "outputs": [
    {
     "data": {
      "text/plain": [
       "array([[ 0.234  ,  0.     , -0.     ],\n",
       "       [ 0.3337 , -0.02039,  0.4907 ],\n",
       "       [ 0.3337 , -0.02039,  0.4907 ],\n",
       "       [-0.3337 , -0.4995 , -0.0962 ],\n",
       "       [-0.3337 , -0.4995 , -0.0962 ],\n",
       "       [-0.234  , -0.     ,  0.     ],\n",
       "       [-0.3337 ,  0.4995 ,  0.0962 ],\n",
       "       [-0.3337 ,  0.4995 ,  0.0962 ],\n",
       "       [ 0.3337 ,  0.02039, -0.4907 ],\n",
       "       [ 0.3337 ,  0.02039, -0.4907 ]], dtype=float16)"
      ]
     },
     "execution_count": 8,
     "metadata": {},
     "output_type": "execute_result"
    }
   ],
   "source": [
    "vecs = eigVector[:,np.argsort(eigValue)].astype('float16')\n",
    "vecs[:,1:4]"
   ]
  },
  {
   "cell_type": "code",
   "execution_count": null,
   "metadata": {},
   "outputs": [],
   "source": []
  }
 ],
 "metadata": {
  "kernelspec": {
   "display_name": "Python 3",
   "language": "python",
   "name": "python3"
  },
  "language_info": {
   "codemirror_mode": {
    "name": "ipython",
    "version": 3
   },
   "file_extension": ".py",
   "mimetype": "text/x-python",
   "name": "python",
   "nbconvert_exporter": "python",
   "pygments_lexer": "ipython3",
   "version": "3.6.5"
  }
 },
 "nbformat": 4,
 "nbformat_minor": 2
}
